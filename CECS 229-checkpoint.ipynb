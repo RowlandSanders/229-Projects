{
 "cells": [
  {
   "cell_type": "markdown",
   "metadata": {},
   "source": [
    "# CECS 229: Coded HW #1\n",
    "\n",
    "### Submission Instructions:\n",
    "\n",
    "Attach your coded solution to the programming tasks below. When you are finished...\n",
    "\n",
    "1. Rename this file so that your actual name replaces \"YOUR NAME\" in the current notebook name, and submit it to the dropbox by **Tuesday 2/18 @ 11 AM**. For example, I would submit to the dropbox a file called  `CECS 229 Coded HW#1 - KATHERINE VARELA.ipynb`\n",
    "2. Submit your code only to CodePost as `hw1.py` by **Tuesday 2/18 @ 11 AM**\n",
    "\n"
   ]
  },
  {
   "cell_type": "markdown",
   "metadata": {},
   "source": [
    "Submit the following Python functions in one Jupyter Notebook after demoing your work.\n",
    "\n",
    "\n",
    "#### Problem 1:\n",
    "\n",
    "Program a function `modExp(b, n, m)` that computes $$b^n \\mod m$$ using the algorithm discussed in lecture.  The function should satisfy the following:\n",
    "\n",
    "1. INPUT: \n",
    "    * `b` - positive integer representing the base\n",
    "    * `n` - positive integer representing the exponent\n",
    "    * `m` - positive integer representing the modulo\n",
    "\n",
    "    \n",
    "2. OUTPUT:\n",
    "    * the computation of $b^n \\mod m$\n",
    "\n",
    " \n",
    "EXAMPLE: \n",
    "\n",
    "`>> modExp( 3 , 644, 645 )`\n",
    "\n",
    "`36`\n",
    "\n"
   ]
  },
  {
   "cell_type": "code",
   "execution_count": 5,
   "metadata": {},
   "outputs": [],
   "source": [
    "def modExp(b, n, m) :      \n",
    "    \n",
    "    b=b%m  \n",
    "    sum=0\n",
    "    t = 1\n",
    "    while (n > 0) : \n",
    "        if ((n & 1)==1) : \n",
    "            t=(t*b)%m\n",
    "        b = (b**2)%m \n",
    "        n = n >> 1 #bitwise shift to right\n",
    "    sum = t\n",
    "    \n",
    "    return sum\n",
    "\n",
    "#Original code without alg\n",
    "#def modExp(b, n, m):\n",
    "#    sum=(b**n)%m\n",
    "#    return sum"
   ]
  },
  {
   "cell_type": "markdown",
   "metadata": {},
   "source": [
    "#### Problem 2:\n",
    "\n",
    "Create a function `bezoutCoeffs(a, b)` that computes the Bezout coefficients `s` and `t` of `a` and `b`.\n",
    "\n",
    "1. INPUT: \n",
    "    * `a`,`b` - integers\n",
    "\n",
    "2. OUTPUT: `(s, t)` - tuple of coefficients\n",
    "\n",
    "EXAMPLE:  \n",
    " \n",
    "`>> bezoutCoeffs(414, 662)` \n",
    "\n",
    "`(8, -5)`\n",
    "\n"
   ]
  },
  {
   "cell_type": "code",
   "execution_count": 6,
   "metadata": {},
   "outputs": [],
   "source": [
    "def bezoutCoeffs(a, b):\n",
    "    \n",
    "    x = 0\n",
    "    x1 = 1\n",
    "    y = 1\n",
    "    y1 = 0\n",
    "    \n",
    "    \n",
    "    while (b != 0): \n",
    "        flr = (a // b)\n",
    "        \n",
    "        b1 = a % b\n",
    "        a = b\n",
    "        b = b1\n",
    "        \n",
    "        x, x1 =x1-(flr*x),x\n",
    "        y, y1 =y1-(flr*y),y\n",
    "        \n",
    "    return (x1,y1)"
   ]
  },
  {
   "cell_type": "markdown",
   "metadata": {},
   "source": [
    "#### Problem 3:\n",
    "\n",
    "Create a function `gcd(a, b)` that computes the greatest common divisor of `a` and `b`\n",
    "\n",
    "1. INPUT: \n",
    "    * `a`,`b` - integers\n",
    "\n",
    "2. OUTPUT: `d` - the gcd\n",
    "\n",
    "EXAMPLE:  \n",
    " \n",
    "`>> gcd(414, 662)` \n",
    "\n",
    "`2`"
   ]
  },
  {
   "cell_type": "code",
   "execution_count": 7,
   "metadata": {},
   "outputs": [],
   "source": [
    "def gcd(a,b):\n",
    "    while b: \n",
    "       a, b = b, a % b \n",
    "    sum = a\n",
    "    return sum"
   ]
  },
  {
   "cell_type": "code",
   "execution_count": 8,
   "metadata": {},
   "outputs": [
    {
     "name": "stdout",
     "output_type": "stream",
     "text": [
      "Testing modExp(23, 1002, 41) =  37\n",
      "Testing bezoutCoeffs(26, 7) =  (3, -11)\n",
      "Testing gcd(101, 4620) =  1\n",
      "Testing gcd(2349, 36) =  9\n"
     ]
    }
   ],
   "source": [
    "\"\"\" TESTER CELL \"\"\"\n",
    "print(\"Testing modExp(23, 1002, 41) = \", modExp(23, 1002, 41))\n",
    "print(\"Testing bezoutCoeffs(26, 7) = \", bezoutCoeffs(26, 7))\n",
    "print(\"Testing gcd(101, 4620) = \", gcd(101, 4620))\n",
    "print(\"Testing gcd(2349, 36) = \", gcd(2349, 36))"
   ]
  },
  {
   "cell_type": "code",
   "execution_count": null,
   "metadata": {},
   "outputs": [],
   "source": []
  },
  {
   "cell_type": "code",
   "execution_count": null,
   "metadata": {},
   "outputs": [],
   "source": []
  }
 ],
 "metadata": {
  "kernelspec": {
   "display_name": "Python 3",
   "language": "python",
   "name": "python3"
  },
  "language_info": {
   "codemirror_mode": {
    "name": "ipython",
    "version": 3
   },
   "file_extension": ".py",
   "mimetype": "text/x-python",
   "name": "python",
   "nbconvert_exporter": "python",
   "pygments_lexer": "ipython3",
   "version": "3.7.4"
  }
 },
 "nbformat": 4,
 "nbformat_minor": 2
}
