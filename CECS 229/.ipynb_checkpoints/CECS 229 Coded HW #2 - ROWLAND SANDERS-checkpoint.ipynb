{
 "cells": [
  {
   "cell_type": "markdown",
   "metadata": {},
   "source": [
    "# CECS 229 Coded HW #2\n",
    "\n",
    "#### Due Date: Thursday 3/12 @ 11:59 PM\n",
    "\n",
    "#### Submission Instructions:\n",
    "\n",
    "Attach your coded solution to the programming tasks below. When you are finished...\n",
    "\n",
    "1. Rename this file so that your actual name replaces \"YOUR NAME\" in the current notebook name, and submit it to the dropbox by **Thursday 3/12 @ 11:59 PM**. For example, I would submit to the dropbox a file called  `CECS 229 Coded HW#2 - KATHERINE VARELA.ipynb`\n",
    "2. Submit your code only to CodePost as `hw2.py` by **Thursday 3/12 @ 11:59 PM**\n",
    "\n",
    "### Programming Tasks\n",
    "\n"
   ]
  },
  {
   "cell_type": "markdown",
   "metadata": {},
   "source": [
    "#### Problem 1: \n",
    "Create a function `modinv(a,m)` that returns the inverse of `a` modulo `m`.  If the gcd of `a` and `m` is not 1, then you must `raise` a `ValueError` exception with message `\"The given values are not relatively prime\"`.  You can NOT use any built-in functions as part of your implementation, but you may import and use any functions you implemented for either Coded HW \\#1 or Lab Assignment \\#3."
   ]
  },
  {
   "cell_type": "code",
   "execution_count": 80,
   "metadata": {},
   "outputs": [],
   "source": [
    "def modinv(a,m):\n",
    "    \n",
    "    x = m\n",
    "    \n",
    "    y = 1\n",
    "    yn = 0\n",
    "    \n",
    "    temp = 0\n",
    "    tempn = 1\n",
    "    \n",
    "    while(m != 0):\n",
    "        b = (a // m)\n",
    "        \n",
    "        an = a\n",
    "        a = m\n",
    "        \n",
    "        y1 = y\n",
    "        y = yn\n",
    "        \n",
    "        temp1 = temp\n",
    "        temp = tempn\n",
    "        \n",
    "        m = (an - b * m)\n",
    "        yn = (y1 - b * yn)\n",
    "        tempn = (temp1 - b * tempn)\n",
    "        \n",
    "    if(a != 1):\n",
    "        raise ValueError(\"The given values are not relatively prime\")\n",
    "    \n",
    "    else:\n",
    "        \n",
    "        while(y<0):\n",
    "            y = (y + x)\n",
    "        while(y>x):\n",
    "            y = (y - x)\n",
    "        return y \n",
    "    return 0"
   ]
  },
  {
   "cell_type": "markdown",
   "metadata": {},
   "source": [
    "#### Problem 2: \n",
    "Create a function `affineEncrypt(text, a,b)` that returns the cipher text encrypted using key  (`a`, `b`).  You must verify that the gcd(a, 26) = 1 before making the encryption.  If this is not the case, the function must throw an `raise` a `ValueError` exception with message `\"The given key is invalid. The gcd(a,26) must be 1.\"`.  You can NOT use any built-in functions as part of your implementation, but you may import and use any functions you implemented for either Coded HW \\#1 or Lab Assignment \\#3.  You may also use the utility functions at the end of this notebook."
   ]
  },
  {
   "cell_type": "code",
   "execution_count": 81,
   "metadata": {},
   "outputs": [],
   "source": [
    "def affineEncrypt(text, a, b):\n",
    "    \n",
    "    x = 26\n",
    "    y = a\n",
    "    while(x != 0):\n",
    "        \n",
    "        m = (y // x)\n",
    "        \n",
    "        an = y\n",
    "        y = x\n",
    "        \n",
    "        x = (an - m * x)\n",
    "        \n",
    "    if(y!=1):\n",
    "        raise ValueError(\"The given key is invalid. The gcd(a,26) must be 1.\") \n",
    "        \n",
    "    else:\n",
    "        \n",
    "        result = \"\"\n",
    "        for i in text:\n",
    "            if(i != \" \"):\n",
    "                p = int(letters2digits(i))\n",
    "                encrypt = (a * p + b) % 26\n",
    "                digit = str(encrypt)\n",
    "                \n",
    "                if(len(digit)<2):\n",
    "                    digit = \"0\" + digit \n",
    "                    \n",
    "                encryption = digits2letters(digit)\n",
    "                result = result + encryption\n",
    "            \n",
    "        return result\n",
    "    pass"
   ]
  },
  {
   "cell_type": "markdown",
   "metadata": {},
   "source": [
    "#### Problem 3: \n",
    "Create a function `affineDecrypt(ciphertext, a,b)` that returns the cipher text encrypted using key  (`a`, `b`). You must verify that the gcd(a, 26) = 1.  If this is not the case, the function must `raise` a `ValueError` exception with message `\"The given key is invalid. The gcd(a,26) must be 1.\"`.  You can NOT use any built-in functions as part of your implementation, but you may import and use any functions you implemented for either Coded HW \\#1 or Lab Assignment \\#3.  You may also use the utility functions at the end of this notebook. "
   ]
  },
  {
   "cell_type": "code",
   "execution_count": 82,
   "metadata": {},
   "outputs": [],
   "source": [
    "def affineDecrypt(ciphertext, a, b):\n",
    "    \n",
    "    x = 26\n",
    "    y = a\n",
    "    \n",
    "    while(x != 0):\n",
    "        \n",
    "        m = (y // x)\n",
    "        a1 = y\n",
    "        \n",
    "        y = x\n",
    "        \n",
    "        x = (a1 - m * x)\n",
    "        \n",
    "    if(y!=1):\n",
    "       raise ValueError( \"The given key is invalid. The gcd(a,26) must be 1.\")\n",
    "    \n",
    "    else:\n",
    "        decryption = \"\"\n",
    "        \n",
    "        for i in ciphertext:\n",
    "            \n",
    "            if(i != \" \"):\n",
    "                calculate = int(letters2digits(i))\n",
    "                decrypt = str((modinv(a,26) * (calculate-b)) % 26)\n",
    "                \n",
    "                if(len(decrypt) < 2):\n",
    "                    \n",
    "                    decrypt = (\"0\" + decrypt)\n",
    "                decryption = decryption + digits2letters(str(decrypt))\n",
    "            \n",
    "        return decryption    "
   ]
  },
  {
   "cell_type": "markdown",
   "metadata": {},
   "source": [
    "#### Problem 4:\n",
    "\n",
    "Implement the function `encryptRSA(m, p, q, e)` which encrypts a string `m` using RSA key `(n = p * q, e)`.  You can NOT use any built-in functions as part of your implementation, but you may import and use any functions you implemented for either Coded HW \\#1 or Lab Assignment \\#3.  You may also use the utility functions at the end of this notebook to aid you in your implementation. "
   ]
  },
  {
   "cell_type": "code",
   "execution_count": 83,
   "metadata": {},
   "outputs": [],
   "source": [
    "def encryptRSA(m, p, q, e):\n",
    "\n",
    "    n = (p * q)\n",
    "    \n",
    "    size = blocksize(n)\n",
    "  \n",
    "    series = \"\"\n",
    "    for i in m:\n",
    "        series = series + letters2digits(i)\n",
    "    while (len(series) % size) != 0:\n",
    "        series = series + \"23\"\n",
    "\n",
    "    a = size\n",
    "    b = 0\n",
    "    x = []\n",
    "    result = \"\"\n",
    "    y = \"\"\n",
    "    for i in range(size): \n",
    "        x.append(series[b:a])\n",
    "        \n",
    "        b = a\n",
    "        a = (a + size)\n",
    "        \n",
    "    for i in x:\n",
    "        \n",
    "        if(len(i) != 0):\n",
    "            \n",
    "            y = str((int(i) ** e) % n)\n",
    "            if(len(y) != size):\n",
    "                \n",
    "                y = (\"0\" + y)\n",
    "            result = (result + y)\n",
    "            \n",
    "    return result\n",
    "    pass"
   ]
  },
  {
   "cell_type": "code",
   "execution_count": 84,
   "metadata": {},
   "outputs": [
    {
     "name": "stdout",
     "output_type": "stream",
     "text": [
      "Encrypted Message: 20812182\n",
      "Expected: 2081 2182\n",
      "Encrypted Message: 09810461\n",
      "Expected: 0981 0461\n",
      "Encrypted Message: 208121821346\n",
      "Expected: 2081 2182 1346\n",
      "Encrypted Message: 254527571211\n",
      "Expected: 2545 2757 1211\n"
     ]
    }
   ],
   "source": [
    "\"\"\"--------------------- ENCRYPTION TESTER CELL ---------------------------\"\"\"\n",
    "encrypted1 = encryptRSA(\"STOP\", 43, 59, 13)\n",
    "encrypted2 = encryptRSA(\"HELP\", 43, 59, 13)\n",
    "encrypted3 = encryptRSA(\"STOPS\", 43, 59, 13)\n",
    "print(\"Encrypted Message:\", encrypted1)\n",
    "print(\"Expected: 2081 2182\")\n",
    "print(\"Encrypted Message:\", encrypted2)\n",
    "print(\"Expected: 0981 0461\")\n",
    "print(\"Encrypted Message:\", encrypted3)\n",
    "print(\"Expected: 2081 2182 1346\")\n",
    "\n",
    "\n",
    "\"\"\"--------------------- TEST 2 ---------------------------\"\"\"\n",
    "encrypted = encryptRSA(\"UPLOAD\", 53, 61, 17)\n",
    "print(\"Encrypted Message:\", encrypted)\n",
    "print(\"Expected: 2545 2757 1211\")"
   ]
  },
  {
   "cell_type": "markdown",
   "metadata": {},
   "source": [
    "#### Problem 5:\n",
    "\n",
    "Complete the implementation of the function `decryptRSA(c, p, q, m)` which depends on `modinv(a,m)` and the given functions `RSAdigits2letters(d)` and `blockSize(n)`.  When you are done, you can test your function against the given samples."
   ]
  },
  {
   "cell_type": "code",
   "execution_count": 92,
   "metadata": {},
   "outputs": [],
   "source": [
    "def decryptRSA(c, p, q, e):\n",
    "    \n",
    "    fixed = \"\"\n",
    "    first = \"\"\n",
    "    \n",
    "    result = []\n",
    "    result = \"\"\n",
    "    \n",
    "    code = c.split(\" \")\n",
    "    c = c.replace(\" \", \"\")\n",
    "    \n",
    "    mod = abs((p-1) * (q-1))\n",
    "    \n",
    "    n = p * q\n",
    "    \n",
    "    inverse = modinv(e, mod)\n",
    "    \n",
    "    for i in code:\n",
    "        fixed = str((int(i) ** inverse) % n)\n",
    "        \n",
    "        if(len(fixed) != len(i)):\n",
    "            fixed = \"0\" + fixed\n",
    "            \n",
    "        first = first + fixed\n",
    "    block = [first[i:i+2] for i in range(0, len(first), 2)]\n",
    "    \n",
    "    print(block)\n",
    "    \n",
    "    for i in block:\n",
    "        result = result + digits2letters(i)\n",
    "        \n",
    "    return result\n",
    "    pass"
   ]
  },
  {
   "cell_type": "code",
   "execution_count": 86,
   "metadata": {},
   "outputs": [
    {
     "name": "stdout",
     "output_type": "stream",
     "text": [
      "['18', '19', '14', '15']\n",
      "['07', '04', '11', '15']\n",
      "['18', '19', '14', '15', '18', '23']\n",
      "Decrypted Message: STOP\n",
      "Expected: STOP\n",
      "Decrypted Message: HELP\n",
      "Expected: HELP\n",
      "Decrypted Message: STOPSX\n",
      "Expected: STOPSX\n",
      "['18', '08', '11', '21', '04', '17']\n",
      "Decrypted Message: SILVER\n",
      "Expected: SILVER\n"
     ]
    }
   ],
   "source": [
    "\"\"\"--------------------- TESTER CELL ---------------------------\"\"\"\n",
    "decrypted1 = decryptRSA(\"2081 2182\", 43, 59, 13)\n",
    "decrypted2 = decryptRSA(\"0981 0461\", 43, 59, 13)\n",
    "decrypted3 = decryptRSA(\"2081 2182 1346\", 43, 59, 13)\n",
    "print(\"Decrypted Message:\", decrypted1)\n",
    "print(\"Expected: STOP\")\n",
    "print(\"Decrypted Message:\", decrypted2)\n",
    "print(\"Expected: HELP\")\n",
    "print(\"Decrypted Message:\", decrypted3)\n",
    "print(\"Expected: STOPSX\")\n",
    "\n",
    "\"\"\"--------------------- TEST 2---------------------------\"\"\"\n",
    "decrypted = decryptRSA(\"0667 1947 0671\", 43, 59, 13)\n",
    "print(\"Decrypted Message:\", decrypted)\n",
    "print(\"Expected: SILVER\")"
   ]
  },
  {
   "cell_type": "markdown",
   "metadata": {},
   "source": [
    "##### Utility functions (NO EDITS NECESSARY)"
   ]
  },
  {
   "cell_type": "code",
   "execution_count": 87,
   "metadata": {},
   "outputs": [],
   "source": [
    "def digits2letters(digits):\n",
    "    \"\"\"converts a string of double digits without spaces in the range 00-25 to a string of letters A-Z\"\"\"\n",
    "    letter2digit = {\"A\" : \"00\", \"B\" : \"01\", \"C\" : \"02\", \"D\" : \"03\", \"E\" : \"04\", \n",
    "                  \"F\" : \"05\", \"G\" : \"06\", \"H\" : \"07\", \"I\" : \"08\", \"J\" : \"09\",\n",
    "                  \"K\" : \"10\", \"L\" : \"11\", \"M\" : \"12\", \"N\" : \"13\", \"O\" : \"14\",  \n",
    "                  \"P\" : \"15\", \"Q\" : \"16\", \"R\" : \"17\", \"S\" : \"18\", \"T\" : \"19\",\n",
    "                  \"U\" : \"20\", \"V\" : \"21\", \"W\" : \"22\", \"X\" : \"23\", \"Y\" : \"24\", \n",
    "                  \"Z\" : \"25\"}\n",
    "        \n",
    "    digit2letter = dict((v,k) for k,v in letter2digit.items())  #creating a dictionary with keys and values exchanged\n",
    "        \n",
    "    letters = \"\"\n",
    "    start = 0  #initializing starting index of first digit\n",
    "    for i in range(0, len(digits), 2):\n",
    "        digit = digits[start : start + 2]  # accessing the double digit\n",
    "        letters += digit2letter[digit]     # concatenating to the string of letters\n",
    "        start += 2                         # updating the starting index for next digit\n",
    "    \n",
    "    return letters"
   ]
  },
  {
   "cell_type": "code",
   "execution_count": 88,
   "metadata": {},
   "outputs": [],
   "source": [
    "def letters2digits(letters):\n",
    "    \"\"\"converts a string of letters A-Z to a string of double digits without spaces in the range 00-25\"\"\"\n",
    "    letter2digit = {\"A\" : \"00\", \"B\" : \"01\", \"C\" : \"02\", \"D\" : \"03\", \"E\" : \"04\", \n",
    "                  \"F\" : \"05\", \"G\" : \"06\", \"H\" : \"07\", \"I\" : \"08\", \"J\" : \"09\",\n",
    "                  \"K\" : \"10\", \"L\" : \"11\", \"M\" : \"12\", \"N\" : \"13\", \"O\" : \"14\",  \n",
    "                  \"P\" : \"15\", \"Q\" : \"16\", \"R\" : \"17\", \"S\" : \"18\", \"T\" : \"19\",\n",
    "                  \"U\" : \"20\", \"V\" : \"21\", \"W\" : \"22\", \"X\" : \"23\", \"Y\" : \"24\", \n",
    "                  \"Z\" : \"25\"}\n",
    "        \n",
    "    digits = \"\"  #initializing digits string\n",
    "    letters = \"\".join(letters.split()) #removing whitespaces in the text\n",
    "\n",
    "    \n",
    "    for i in range(0, len(letters)):\n",
    "        if(letters[i].isalpha()):\n",
    "            letter = letters[i].upper()  #converting to uppercase\n",
    "            digit = letter2digit[letter]\n",
    "            digits += digit     # concatenating to the string of digits\n",
    "    \n",
    "    return digits"
   ]
  },
  {
   "cell_type": "code",
   "execution_count": 89,
   "metadata": {},
   "outputs": [],
   "source": [
    "def blocksize(n):\n",
    "    \"\"\"returns the size of a block in an RSA encrypted string\"\"\"\n",
    "    twofive = \"25\"\n",
    "    while int(twofive) < n:\n",
    "        twofive += \"25\"\n",
    "    return len(twofive) - 2"
   ]
  },
  {
   "cell_type": "code",
   "execution_count": 91,
   "metadata": {},
   "outputs": [
    {
     "data": {
      "text/plain": [
       "'SURRENDERNOW'"
      ]
     },
     "execution_count": 91,
     "metadata": {},
     "output_type": "execute_result"
    }
   ],
   "source": [
    "affineDecrypt(\"CEBBOXNOB XYG\", 1, 10)\n"
   ]
  },
  {
   "cell_type": "code",
   "execution_count": 95,
   "metadata": {},
   "outputs": [
    {
     "name": "stdout",
     "output_type": "stream",
     "text": [
      "['18', '16', '20', '08', '17', '17', '04', '11']\n"
     ]
    },
    {
     "data": {
      "text/plain": [
       "'SQUIRREL'"
      ]
     },
     "execution_count": 95,
     "metadata": {},
     "output_type": "execute_result"
    }
   ],
   "source": [
    "decryptRSA(\"3185 2038 2460 2550\", 53, 61, 17)\n"
   ]
  }
 ],
 "metadata": {
  "kernelspec": {
   "display_name": "Python 3",
   "language": "python",
   "name": "python3"
  },
  "language_info": {
   "codemirror_mode": {
    "name": "ipython",
    "version": 3
   },
   "file_extension": ".py",
   "mimetype": "text/x-python",
   "name": "python",
   "nbconvert_exporter": "python",
   "pygments_lexer": "ipython3",
   "version": "3.7.4"
  }
 },
 "nbformat": 4,
 "nbformat_minor": 2
}
