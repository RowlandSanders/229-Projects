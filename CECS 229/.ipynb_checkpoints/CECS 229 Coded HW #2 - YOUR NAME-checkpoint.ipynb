{
 "cells": [
  {
   "cell_type": "markdown",
   "metadata": {},
   "source": [
    "# CECS 229 Coded HW #2\n",
    "\n",
    "#### Due Date: Thursday 3/12 @ 11:59 PM\n",
    "\n",
    "#### Submission Instructions:\n",
    "\n",
    "Attach your coded solution to the programming tasks below. When you are finished...\n",
    "\n",
    "1. Rename this file so that your actual name replaces \"YOUR NAME\" in the current notebook name, and submit it to the dropbox by **Thursday 3/12 @ 11:59 PM**. For example, I would submit to the dropbox a file called  `CECS 229 Coded HW#2 - KATHERINE VARELA.ipynb`\n",
    "2. Submit your code only to CodePost as `hw2.py` by **Thursday 3/12 @ 11:59 PM**\n",
    "\n",
    "### Programming Tasks\n",
    "\n"
   ]
  },
  {
   "cell_type": "markdown",
   "metadata": {},
   "source": [
    "#### Problem 1: \n",
    "Create a function `modinv(a,m)` that returns the inverse of `a` modulo `m`.  If the gcd of `a` and `m` is not 1, then you must `raise` a `ValueError` exception with message `\"The given values are not relatively prime\"`.  You can NOT use any built-in functions as part of your implementation, but you may import and use any functions you implemented for either Coded HW \\#1 or Lab Assignment \\#3."
   ]
  },
  {
   "cell_type": "code",
   "execution_count": 8,
   "metadata": {},
   "outputs": [
    {
     "ename": "IndentationError",
     "evalue": "expected an indented block (<ipython-input-8-bec7c4dd208c>, line 8)",
     "output_type": "error",
     "traceback": [
      "\u001b[1;36m  File \u001b[1;32m\"<ipython-input-8-bec7c4dd208c>\"\u001b[1;36m, line \u001b[1;32m8\u001b[0m\n\u001b[1;33m    a=a%m;\u001b[0m\n\u001b[1;37m    ^\u001b[0m\n\u001b[1;31mIndentationError\u001b[0m\u001b[1;31m:\u001b[0m expected an indented block\n"
     ]
    }
   ],
   "source": [
    "def modinv(a,m):\n",
    "    \"\"\"returns the inverse of a modulo m\n",
    "    INPUT: a - integer\n",
    "           m - positive integer\n",
    "    OUTPUT: a inverse as an integer\n",
    "    \"\"\"\n",
    "    def modInverse(a,m): \n",
    "    a=a%m; \n",
    "    for i in range(1,m): \n",
    "        if((a*i)%m==1): \n",
    "            return i \n",
    "    return 1"
   ]
  },
  {
   "cell_type": "markdown",
   "metadata": {},
   "source": [
    "#### Problem 2: \n",
    "Create a function `affineEncrypt(text, a,b)` that returns the cipher text encrypted using key  (`a`, `b`).  You must verify that the gcd(a, 26) = 1 before making the encryption.  If this is not the case, the function must throw an `raise` a `ValueError` exception with message `\"The given key is invalid. The gcd(a,26) must be 1.\"`.  You can NOT use any built-in functions as part of your implementation, but you may import and use any functions you implemented for either Coded HW \\#1 or Lab Assignment \\#3.  You may also use the utility functions at the end of this notebook."
   ]
  },
  {
   "cell_type": "code",
   "execution_count": 2,
   "metadata": {},
   "outputs": [],
   "source": [
    "def affineEncrypt(text, a, b):\n",
    "    \"\"\"encrypts the plaintext 'text', using an affine transformation key (a, b)\n",
    "    INPUT:  text - plaintext as a string of letters\n",
    "            a - integer satisfying gcd(a, 26) = 1.  Raises error if such is not the case\n",
    "            b - integer \n",
    "            \n",
    "    OUTPUT: The encrypted message as a string of characters\n",
    "    \"\"\"\n",
    "    a=a%m; \n",
    "    for i in range(1, m) : \n",
    "        if((a*i)%m==1) : \n",
    "            return i\n",
    "    return 1\n",
    "    pass\n",
    "    "
   ]
  },
  {
   "cell_type": "markdown",
   "metadata": {},
   "source": [
    "#### Problem 3: \n",
    "Create a function `affineDecrypt(ciphertext, a,b)` that returns the cipher text encrypted using key  (`a`, `b`). You must verify that the gcd(a, 26) = 1.  If this is not the case, the function must `raise` a `ValueError` exception with message `\"The given key is invalid. The gcd(a,26) must be 1.\"`.  You can NOT use any built-in functions as part of your implementation, but you may import and use any functions you implemented for either Coded HW \\#1 or Lab Assignment \\#3.  You may also use the utility functions at the end of this notebook. "
   ]
  },
  {
   "cell_type": "code",
   "execution_count": 3,
   "metadata": {},
   "outputs": [],
   "source": [
    "def affineDecrypt(ciphertext, a, b):\n",
    "    \"\"\"decrypts the string 'ciphertext', which was encrypted using an affine transformation key (a, b)\n",
    "    INPUT:  ciphertext - a string of encrypted letters\n",
    "            a - integer satisfying gcd(a, 26) = 1.  \n",
    "            b - integer \n",
    "            \n",
    "    OUTPUT: The decrypted message as a string of characters\n",
    "    \"\"\"\n",
    "    pass\n",
    "    "
   ]
  },
  {
   "cell_type": "markdown",
   "metadata": {},
   "source": [
    "#### Problem 4:\n",
    "\n",
    "Implement the function `encryptRSA(m, p, q, e)` which encrypts a string `m` using RSA key `(n = p * q, e)`.  You can NOT use any built-in functions as part of your implementation, but you may import and use any functions you implemented for either Coded HW \\#1 or Lab Assignment \\#3.  You may also use the utility functions at the end of this notebook to aid you in your implementation. "
   ]
  },
  {
   "cell_type": "code",
   "execution_count": 4,
   "metadata": {},
   "outputs": [],
   "source": [
    "def encryptRSA(m, p, q, e):\n",
    "    \"\"\"encrypts the plaintext m, using RSA and the key (p * q, e)\n",
    "    INPUT:  m - plaintext as a string of letters\n",
    "            p, q - prime numbers used as part of the key n = p * q to encrypt the ciphertext\n",
    "            e - integer satisfying gcd((p-1)*(q-1), e) = 1\n",
    "            \n",
    "    OUTPUT: The encrypted message as a string of digits\n",
    "    \"\"\"\n",
    "    pass\n",
    "    "
   ]
  },
  {
   "cell_type": "code",
   "execution_count": 5,
   "metadata": {},
   "outputs": [
    {
     "name": "stdout",
     "output_type": "stream",
     "text": [
      "Encrypted Message: None\n",
      "Expected: 2081 2182\n",
      "Encrypted Message: None\n",
      "Expected: 0981 0461\n",
      "Encrypted Message: None\n",
      "Expected: 2081 2182 1346\n",
      "Encrypted Message: None\n",
      "Expected: 2545 2757 1211\n"
     ]
    }
   ],
   "source": [
    "\"\"\"--------------------- ENCRYPTION TESTER CELL ---------------------------\"\"\"\n",
    "encrypted1 = encryptRSA(\"STOP\", 43, 59, 13)\n",
    "encrypted2 = encryptRSA(\"HELP\", 43, 59, 13)\n",
    "encrypted3 = encryptRSA(\"STOPS\", 43, 59, 13)\n",
    "print(\"Encrypted Message:\", encrypted1)\n",
    "print(\"Expected: 2081 2182\")\n",
    "print(\"Encrypted Message:\", encrypted2)\n",
    "print(\"Expected: 0981 0461\")\n",
    "print(\"Encrypted Message:\", encrypted3)\n",
    "print(\"Expected: 2081 2182 1346\")\n",
    "\n",
    "\n",
    "\"\"\"--------------------- TEST 2 ---------------------------\"\"\"\n",
    "encrypted = encryptRSA(\"UPLOAD\", 53, 61, 17)\n",
    "print(\"Encrypted Message:\", encrypted)\n",
    "print(\"Expected: 2545 2757 1211\")"
   ]
  },
  {
   "cell_type": "markdown",
   "metadata": {},
   "source": [
    "#### Problem 5:\n",
    "\n",
    "Complete the implementation of the function `decryptRSA(c, p, q, m)` which depends on `modinv(a,m)` and the given functions `RSAdigits2letters(d)` and `blockSize(n)`.  When you are done, you can test your function against the given samples."
   ]
  },
  {
   "cell_type": "code",
   "execution_count": 7,
   "metadata": {},
   "outputs": [],
   "source": [
    "def decryptRSA(c, p, q, e):\n",
    "    \"\"\"decrypts the cipher c, which was encrypted using the key (p * q, e)\n",
    "    INPUT:  c - ciphertext as a string of digits\n",
    "            p, q - prime numbers used as part of the key n = p * q to encrypt the ciphertext\n",
    "            e - integer satisfying gcd((p-1)*(q-1), e) = 1\n",
    "            \n",
    "    OUTPUT: The decrypted message as a string of letters\n",
    "    \"\"\"\n",
    "    pass\n"
   ]
  },
  {
   "cell_type": "code",
   "execution_count": null,
   "metadata": {
    "collapsed": true
   },
   "outputs": [],
   "source": [
    "\"\"\"--------------------- TESTER CELL ---------------------------\"\"\"\n",
    "decrypted1 = decryptRSA(\"2081 2182\", 43, 59, 13)\n",
    "decrypted2 = decryptRSA(\"0981 0461\", 43, 59, 13)\n",
    "decrypted3 = decryptRSA(\"2081 2182 1346\", 43, 59, 13)\n",
    "print(\"Decrypted Message:\", decrypted1)\n",
    "print(\"Expected: STOP\")\n",
    "print(\"Decrypted Message:\", decrypted2)\n",
    "print(\"Expected: HELP\")\n",
    "print(\"Decrypted Message:\", decrypted3)\n",
    "print(\"Expected: STOPSX\")\n",
    "\n",
    "\"\"\"--------------------- TEST 2---------------------------\"\"\"\n",
    "decrypted = decryptRSA(\"0667 1947 0671\", 43, 59, 13)\n",
    "print(\"Decrypted Message:\", decrypted)\n",
    "print(\"Expected: SILVER\")"
   ]
  },
  {
   "cell_type": "markdown",
   "metadata": {},
   "source": [
    "##### Utility functions (NO EDITS NECESSARY)"
   ]
  },
  {
   "cell_type": "code",
   "execution_count": 31,
   "metadata": {
    "collapsed": true
   },
   "outputs": [],
   "source": [
    "def digits2letters(digits):\n",
    "    \"\"\"converts a string of double digits without spaces in the range 00-25 to a string of letters A-Z\"\"\"\n",
    "    letter2digit = {\"A\" : \"00\", \"B\" : \"01\", \"C\" : \"02\", \"D\" : \"03\", \"E\" : \"04\", \n",
    "                  \"F\" : \"05\", \"G\" : \"06\", \"H\" : \"07\", \"I\" : \"08\", \"J\" : \"09\",\n",
    "                  \"K\" : \"10\", \"L\" : \"11\", \"M\" : \"12\", \"N\" : \"13\", \"O\" : \"14\",  \n",
    "                  \"P\" : \"15\", \"Q\" : \"16\", \"R\" : \"17\", \"S\" : \"18\", \"T\" : \"19\",\n",
    "                  \"U\" : \"20\", \"V\" : \"21\", \"W\" : \"22\", \"X\" : \"23\", \"Y\" : \"24\", \n",
    "                  \"Z\" : \"25\"}\n",
    "        \n",
    "    digit2letter = dict((v,k) for k,v in letter2digit.items())  #creating a dictionary with keys and values exchanged\n",
    "        \n",
    "    letters = \"\"\n",
    "    start = 0  #initializing starting index of first digit\n",
    "    for i in range(0, len(digits), 2):\n",
    "        digit = digits[start : start + 2]  # accessing the double digit\n",
    "        letters += digit2letter[digit]     # concatenating to the string of letters\n",
    "        start += 2                         # updating the starting index for next digit\n",
    "    \n",
    "    return letters"
   ]
  },
  {
   "cell_type": "code",
   "execution_count": 32,
   "metadata": {
    "collapsed": true
   },
   "outputs": [],
   "source": [
    "def letters2digits(letters):\n",
    "    \"\"\"converts a string of letters A-Z to a string of double digits without spaces in the range 00-25\"\"\"\n",
    "    letter2digit = {\"A\" : \"00\", \"B\" : \"01\", \"C\" : \"02\", \"D\" : \"03\", \"E\" : \"04\", \n",
    "                  \"F\" : \"05\", \"G\" : \"06\", \"H\" : \"07\", \"I\" : \"08\", \"J\" : \"09\",\n",
    "                  \"K\" : \"10\", \"L\" : \"11\", \"M\" : \"12\", \"N\" : \"13\", \"O\" : \"14\",  \n",
    "                  \"P\" : \"15\", \"Q\" : \"16\", \"R\" : \"17\", \"S\" : \"18\", \"T\" : \"19\",\n",
    "                  \"U\" : \"20\", \"V\" : \"21\", \"W\" : \"22\", \"X\" : \"23\", \"Y\" : \"24\", \n",
    "                  \"Z\" : \"25\"}\n",
    "        \n",
    "    digits = \"\"  #initializing digits string\n",
    "    letters = \"\".join(letters.split()) #removing whitespaces in the text\n",
    "\n",
    "    \n",
    "    for i in range(0, len(letters)):\n",
    "        if(letters[i].isalpha()):\n",
    "            letter = letters[i].upper()  #converting to uppercase\n",
    "            digit = letter2digit[letter]\n",
    "            digits += digit     # concatenating to the string of digits\n",
    "    \n",
    "    return digits"
   ]
  },
  {
   "cell_type": "code",
   "execution_count": null,
   "metadata": {
    "collapsed": true
   },
   "outputs": [],
   "source": [
    "def blocksize(n):\n",
    "    \"\"\"returns the size of a block in an RSA encrypted string\"\"\"\n",
    "    twofive = \"25\"\n",
    "    while int(twofive) < n:\n",
    "        twofive += \"25\"\n",
    "    return len(twofive) - 2"
   ]
  }
 ],
 "metadata": {
  "kernelspec": {
   "display_name": "Python 3",
   "language": "python",
   "name": "python3"
  },
  "language_info": {
   "codemirror_mode": {
    "name": "ipython",
    "version": 3
   },
   "file_extension": ".py",
   "mimetype": "text/x-python",
   "name": "python",
   "nbconvert_exporter": "python",
   "pygments_lexer": "ipython3",
   "version": "3.7.4"
  }
 },
 "nbformat": 4,
 "nbformat_minor": 2
}
