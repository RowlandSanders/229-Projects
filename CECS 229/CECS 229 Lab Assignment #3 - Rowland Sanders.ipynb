{
 "cells": [
  {
   "cell_type": "markdown",
   "metadata": {},
   "source": [
    "# CECS 229 Lab Assignment #3\n",
    "\n",
    "### Submission Instructions:\n",
    "\n",
    "Complete the task below. When you are finished, you must complete the following to receive a grade:\n",
    "\n",
    "1. Submit this notebook to the Dropbox by **Tuesday 2/4 @ 11:00 AM**.  Rename this file so that your actual name replaces \"YOUR NAME\". For example, I would submit to the dropbox a file called `CECS 229 Lab Assignment #3 - KATHERINE VARELA.ipynb`.\n",
    "\n",
    "2. Save your code ONLY to a .py file called `lab3.py`, and submit it on CodePost.\n"
   ]
  },
  {
   "cell_type": "markdown",
   "metadata": {},
   "source": [
    "#### Directions: Complete the function so that `binaryAdd(a, b)` returns the sum of two binary numbers `a` and `b`."
   ]
  },
  {
   "cell_type": "code",
   "execution_count": 17,
   "metadata": {},
   "outputs": [],
   "source": [
    "def binaryAdd(a, b): #this is the beginning of a python function\n",
    "    \"\"\"This is the functions doc string\n",
    "    returns the sum of two binary numbers a and b\n",
    "    INPUT: a,b - string representation of the binary numbers\n",
    "    OUPUT: string representation of their sum\n",
    "    \"\"\"\n",
    "    a = a.replace(\" \", \"\") #removing all whitespaces in string a\n",
    "    #FIXME: REMOVE ALL WHITESPACES IN STRING b\n",
    "    b = b.replace(\" \", \"\")  #removing all whitespaces in string b\n",
    "    \n",
    "    m = len(a) #number of digits in string a\n",
    "    n = len(b) #number of digits in string b\n",
    "    \n",
    "    if m < n: #if string a is shorter than string b\n",
    "        num_missing_zeros = n - m\n",
    "        a = num_missing_zeros*\"0\" + a #appending 0's to the beginning of string a, to make it the same length as b\n",
    "        \n",
    "    if m < n: #if string a is shorter than string b\n",
    "        num_missing_zeros = n - m\n",
    "        b = num_missing_zeros*\"0\" + b \n",
    "        \n",
    "    #FIXME: IF STRING b IS SHORTER THAN STRING a, APPEND 0's TO THE BEGINNING OF STRING b TO MAKE LENGTHS EQUAL\n",
    "     \n",
    "    print(\"a = \",a)\n",
    "    print(\"b = \",b)\n",
    "    sum = bin(int(a,2)+int(b,2))[2:]\n",
    "    print(\"sum = \" +sum)\n",
    "    \n",
    "    #FIXME: FINISH THE FUNCTION SO THAT IT RETURNS THE DESIRED OUTPUT "
   ]
  },
  {
   "cell_type": "code",
   "execution_count": 7,
   "metadata": {
    "scrolled": true
   },
   "outputs": [
    {
     "name": "stdout",
     "output_type": "stream",
     "text": [
      "Help on function binaryAdd in module __main__:\n",
      "\n",
      "binaryAdd(a, b)\n",
      "    This is the functions doc string\n",
      "    returns the sum of two binary numbers a and b\n",
      "    INPUT: a,b - string representation of the binary numbers\n",
      "    OUPUT: string representation of their sum\n",
      "\n"
     ]
    }
   ],
   "source": [
    "help(binaryAdd)\n"
   ]
  },
  {
   "cell_type": "code",
   "execution_count": 18,
   "metadata": {
    "scrolled": true
   },
   "outputs": [
    {
     "name": "stdout",
     "output_type": "stream",
     "text": [
      "a =  101000\n",
      "b =  100\n",
      "sum = 101100\n"
     ]
    }
   ],
   "source": [
    "binaryAdd(\" 1 01 000\", \"100\")\n"
   ]
  },
  {
   "cell_type": "code",
   "execution_count": null,
   "metadata": {},
   "outputs": [],
   "source": []
  }
 ],
 "metadata": {
  "kernelspec": {
   "display_name": "Python 3",
   "language": "python",
   "name": "python3"
  },
  "language_info": {
   "codemirror_mode": {
    "name": "ipython",
    "version": 3
   },
   "file_extension": ".py",
   "mimetype": "text/x-python",
   "name": "python",
   "nbconvert_exporter": "python",
   "pygments_lexer": "ipython3",
   "version": "3.7.4"
  }
 },
 "nbformat": 4,
 "nbformat_minor": 2
}
