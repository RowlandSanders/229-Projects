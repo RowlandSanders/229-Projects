{
 "cells": [
  {
   "cell_type": "markdown",
   "metadata": {},
   "source": [
    "# CECS 229: Lab Assignment #5\n",
    "\n",
    "### Submission Instructions:\n",
    "\n",
    "Complete the task below. When you are finished, you must complete the following to receive a grade:\n",
    "\n",
    "1. Submit this notebook to the Dropbox by **Friday 3/27 @ 11:59 PM**.  Rename this file so that your actual name replaces \"YOUR NAME\". For example, I would submit to the dropbox a file called `CECS 229 Lab Assignment #5 - KATHERINE VARELA.ipynb`.\n",
    "\n",
    "2. Save your code ONLY to a .py file called `lab5.py`, and submit it on CodePost by the due date."
   ]
  },
  {
   "cell_type": "markdown",
   "metadata": {},
   "source": [
    "#### Problem 1:\n",
    "\n",
    "Create a function `translate(S, z0)` that translates the points in the input set $S$ by $z_0 = a_0 + b_0 i$.  The function should satisfy the following:\n",
    "\n",
    "1. INPUT: \n",
    "    * `S` - set S\n",
    "    * `z0` - complex number\n",
    "2. OUT:\n",
    "    * `T` - set T consisting of points in S translated by $z_0$"
   ]
  },
  {
   "cell_type": "code",
   "execution_count": 1,
   "metadata": {},
   "outputs": [],
   "source": [
    "def translate(S, z0):\n",
    "    \"\"\"\n",
    "    translates the complex numbers of set S by z0\n",
    "    INPUT: \n",
    "        * S - set of complex numbers\n",
    "        * z0 - complex number\n",
    "    OUT:\n",
    "        * T - set consisting of points in S translated by z0\n",
    "    \"\"\"\n",
    "    T = []\n",
    "    for z in S:\n",
    "        T.append(z0 + z)\n",
    "    return set(T)\n",
    "pass"
   ]
  },
  {
   "cell_type": "code",
   "execution_count": 2,
   "metadata": {},
   "outputs": [],
   "source": [
    "from plotting import plot\n",
    "\n",
    "S = {2 + 2j, 3 + 2j , 1.75 + 1j, 2 + 1j, 2.25 + 1j, 2.5 + 1j, 2.75 + 1j, 3 + 1j, 3.25 + 1j}\n",
    "\n",
    "T = translate(S, -1+2j)\n",
    "plot(S)\n",
    "plot(T)\n"
   ]
  },
  {
   "cell_type": "markdown",
   "metadata": {},
   "source": [
    "#### Problem 2:\n",
    "\n",
    "Create a function `scale(S, k)` that scales the points in the input set $S$ by a factor of $k$:\n",
    "\n",
    "1. INPUT: \n",
    "    * `S` - set S\n",
    "    * `k` - positive float, if negative or zero factor is given then the function raises a ValueError with message, \"ERROR: Scaling factor must be a positive float\".\n",
    "2. OUT:\n",
    "    * `T` - set T consisting of points in S scaled by $k$ and rotated by $\\theta$"
   ]
  },
  {
   "cell_type": "code",
   "execution_count": 3,
   "metadata": {},
   "outputs": [],
   "source": [
    "def scale(S, k):\n",
    "    \"\"\"\n",
    "    scales the complex numbers of set S by k.  \n",
    "    INPUT: \n",
    "        * S - set of complex numbers\n",
    "        * k - positive float, raises ValueError if k <= 0\n",
    "    OUT:\n",
    "        * T - set consisting of points in S scaled by k\n",
    "        \n",
    "    \"\"\"\n",
    "    #FIXME: IMPLEMENT FUNCTION\n",
    "    for i in S:\n",
    "        yield (i * k)\n",
    "    pass"
   ]
  },
  {
   "cell_type": "code",
   "execution_count": 4,
   "metadata": {},
   "outputs": [],
   "source": [
    "U = scale(S, 3)\n",
    "plot(U,11) #second parameter affects window size\n"
   ]
  },
  {
   "cell_type": "markdown",
   "metadata": {},
   "source": [
    "#### Problem 3:\n",
    "\n",
    "Create a function `rotate(S, theta)` that rotates the points in the input set $S$ by $\\theta$ radians:\n",
    "\n",
    "1. INPUT: \n",
    "    * `S` - set S\n",
    "    * `theta` - float. If negative, the rotation is clockwise. If positive the rotation is counterclockwise. If zero, no rotation.\n",
    "2. OUT:\n",
    "    * `T` - set T consisting of points in S rotated by $\\theta$"
   ]
  },
  {
   "cell_type": "code",
   "execution_count": 8,
   "metadata": {},
   "outputs": [],
   "source": [
    "def rotate(S, theta):\n",
    "    \"\"\"\n",
    "    rotates the complex numbers of set S by theta radians.  \n",
    "    INPUT: \n",
    "        * S - set of complex numbers\n",
    "        * theta - float. If negative, the rotation is clockwise. If positive the rotation is counterclockwise. If zero, no rotation.\n",
    "    OUT:\n",
    "        * T - set consisting of points in S rotated by theta radians\n",
    "        \n",
    "    \"\"\"\n",
    "    output=set()\n",
    "    \n",
    "    if(theta==0):\n",
    "        return S\n",
    "    \n",
    "    else:\n",
    "        angle=complex(math.cos(theta),math.sin(theta))\n",
    "        for i in S:\n",
    "            n=i*angle\n",
    "            output.add(n)\n",
    "            \n",
    "        return output\n",
    "    pass"
   ]
  },
  {
   "cell_type": "code",
   "execution_count": 10,
   "metadata": {},
   "outputs": [],
   "source": [
    "import math\n",
    "V = rotate(S, math.pi/12)\n",
    "W = rotate(S, -math.pi/4)\n",
    "plot(V)\n",
    "plot(W)\n"
   ]
  },
  {
   "cell_type": "code",
   "execution_count": null,
   "metadata": {},
   "outputs": [],
   "source": []
  },
  {
   "cell_type": "code",
   "execution_count": null,
   "metadata": {},
   "outputs": [],
   "source": []
  },
  {
   "cell_type": "code",
   "execution_count": null,
   "metadata": {},
   "outputs": [],
   "source": []
  },
  {
   "cell_type": "code",
   "execution_count": null,
   "metadata": {},
   "outputs": [],
   "source": []
  }
 ],
 "metadata": {
  "anaconda-cloud": {},
  "kernelspec": {
   "display_name": "Python 3",
   "language": "python",
   "name": "python3"
  },
  "language_info": {
   "codemirror_mode": {
    "name": "ipython",
    "version": 3
   },
   "file_extension": ".py",
   "mimetype": "text/x-python",
   "name": "python",
   "nbconvert_exporter": "python",
   "pygments_lexer": "ipython3",
   "version": "3.7.6"
  }
 },
 "nbformat": 4,
 "nbformat_minor": 1
}
