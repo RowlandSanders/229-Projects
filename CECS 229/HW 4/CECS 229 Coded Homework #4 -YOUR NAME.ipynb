{
 "cells": [
  {
   "cell_type": "markdown",
   "metadata": {},
   "source": [
    "# CECS 229 Coded Homework #4\n",
    "\n",
    "#### Due Date: Tuesday 4/28 @ 11:59 PM\n",
    "\n",
    "#### Submission Instructions:\n",
    "\n",
    "Attach your coded solution to the programming tasks below. When you are finished...\n",
    "\n",
    "1. **BeachBoard Dropbox**: Rename this file so that your actual name replaces \"YOUR NAME\" in the current notebook name. For example, I would submit to the dropbox a file called  `CECS 229 Coded HW#4 - KATHERINE VARELA.ipynb`\n",
    "\n",
    "2. **BeachBoard Dropbox**: Submit the screenshot described in Task 2\n",
    "\n",
    "3. **CodePost**: Submit your *code for Task 1 only* to CodePost as `hw4.py` by **Tuesday 4/28 @ 11:59 PM**\n",
    "\n",
    "### Programming Tasks"
   ]
  },
  {
   "cell_type": "markdown",
   "metadata": {},
   "source": [
    "#### Task 1.\n",
    "\n",
    "\n",
    "Implement a class `Matrix` that creates matrix objects with attributes\n",
    "1. `Colsp` -column space of the `Matrix` object, as a list of columns (also lists)\n",
    "2. `Rowsp` -row space of the `Matrix` object, as a list of rows (also lists)\n",
    "\n",
    "The constructor should only take a list of rows as an argument, and construct the column space from this rowspace.  If a list is not provided, the parameter should default to an empty list.\n",
    "\n",
    "In addition your class should have the following instance functions (i.e. functions you can call on a `Matrix` object):\n",
    "\n",
    "***Setters***\n",
    "* `setCol(self,j, u)` - changes the j-th column to be the list `u`.  If `u` is not the same length as the existing columns, then the constructor should raise a `ValueError` with the message `Incompatible column length.`\n",
    "* `setRow(self,i, v)` - changes the i-th row to be the list `v`.  If `v` is not the same length as the existing rows, then the constructor should raise a `ValueError` with the message `Incompatible row length.`\n",
    "* `setEntry(self,i, j, a)` - changes the existing $a_{ij}$ entry in the matrix to `a`.\n",
    "\n",
    "***Getters***\n",
    "* `getCol(self, j)` - returns the j-th column as a list.  \n",
    "* `getRow(self, i)` - returns the i-th row as a list `v`. \n",
    "* `getEntry(self, i, j)` - returns the existing $a_{ij}$ entry in the matrix.\n",
    "* `getColSpace(self)` - returns the *lis* of vectors that make up the column space of the matrix object\n",
    "* `getRowSpace(self)` - returns the *list* of vectors that make up the row space of the matrix object\n",
    "* `getdiag(self, k)` - returns the $k$-th diagonal of a matrix where $k =0$ returns the main diagonal,\n",
    "$k > 0$ returns the diagonal beginning at $a_{1(k+1)}$, and $k < 0$ returns the diagonal beginning at $a_{(-k+1)1}$.  e.g. `getdiag(1)` for an $n \\times n$ matrix returns [$a_{12}, a_{23}, a_{34}, \\dots, a_{(n-1)n}$]\n",
    "* `__str__(self)` - returns a formatted string representing the matrix entries as \n",
    "\n",
    "$\\hspace{10cm} \\begin{array} aa_{11} & a_{12} & \\dots & a_{1m} \\\\ a_{21} & a_{22} & \\dots & a_{2m} \\\\ \\vdots & \\vdots & \\ddots & \\vdots \\\\a_{m1} & a_{m2} & \\dots & a_{mn} \\end{array}$\n",
    "\n",
    "***Overloaded operators***\n",
    "\n",
    "The `Matrix` class must also overload the `+`, `-`, and `*` operators.   "
   ]
  },
  {
   "cell_type": "code",
   "execution_count": null,
   "metadata": {
    "collapsed": true
   },
   "outputs": [],
   "source": [
    "\"REPLACE THE BOTTOM WITH YOUR Matrix CLASS \"\n",
    "\n",
    "class Matrix:\n",
    "    \n",
    "    def __init__():  #FIXME: Replace with your code\n",
    "        pass\n",
    "    \n",
    "    def __add__(self, other):\n",
    "        pass #FIXME: REPLACE WITH IMPLEMENTATION\n",
    "    \n",
    "    def __sub__(self, other):\n",
    "        pass #FIXME: REPLACE WITH IMPLEMENTATION\n",
    "        \n",
    "    def __mul__(self, other):  \n",
    "        if type(other) == float:\n",
    "            print(\"FIXME: Insert implementation of MATRIX-SCALAR multiplication\")  #REPLACE\n",
    "        elif type(other) == Matrix:\n",
    "            print(\"FIXME: Insert implementation of MATRIX-MATRIX multiplication\") #REPLACE\n",
    "        elif type(other) == Vec:\n",
    "            print(\"FIXME: Insert implementation for MATRIX-VECTOR multiplication\")  #REPLACE\n",
    "        else:\n",
    "            print(\"ERROR: Unsupported Type.\")\n",
    "        return\n",
    "    \n",
    "    def __rmul__(self, other):  \n",
    "        if type(other) == float:\n",
    "            print(\"FIXME: Insert implementation of SCALAR-MATRIX multiplication\")  #REPLACE\n",
    "        else:\n",
    "            print(\"ERROR: Unsupported Type.\")\n",
    "        return\n",
    "    \n",
    "    def __str__(self):\n",
    "        \"\"\"prints the column \"\"\""
   ]
  },
  {
   "cell_type": "code",
   "execution_count": null,
   "metadata": {
    "collapsed": true
   },
   "outputs": [],
   "source": [
    "B = Matrix([ [1, 2, 3, 4], [0, 1, 2, 3], [-1, 0, 1, 2], [-2, -1, 2, 3]])\n",
    "A = Matrix([ [2, 0], [0, 2], [0, 0], [0, 0]])\n",
    "\n",
    "print(\"Matrix A:\")\n",
    "print(A)\n",
    "print()\n",
    "\n",
    "print(\"Matrix B:\")\n",
    "print(B)"
   ]
  },
  {
   "cell_type": "markdown",
   "metadata": {},
   "source": [
    "#### Tester Cell for `getdiag()`"
   ]
  },
  {
   "cell_type": "code",
   "execution_count": null,
   "metadata": {
    "collapsed": true
   },
   "outputs": [],
   "source": [
    "B = Matrix([ [1, 2, 3, 4], [0, 1, 2, 3], [-1, 0, 1, 2], [-2, -1, 2, 3]])\n",
    "print(\"Matrix:\")\n",
    "print(B)\n",
    "\n",
    "print(\"Main diagonal:\",B.getdiag(0))\n",
    "print()\n",
    "print(\"Diagonal at k = -1:\", B.getdiag(-1))\n",
    "print()\n",
    "print(\"Diagonal at k = -2:\", B.getdiag(-2))\n",
    "print()\n",
    "print(\"Diagonal at k = -3:\", B.getdiag(-3))\n",
    "print()\n",
    "print(\"Diagonal at k = 1:\", B.getdiag(1))\n",
    "print()\n",
    "print(\"Diagonal at k = 2:\", B.getdiag(2))\n",
    "print()\n",
    "print(\"Diagonal at k = 3:\", B.getdiag(3))"
   ]
  },
  {
   "cell_type": "markdown",
   "metadata": {},
   "source": [
    "#### Tester Cell for \n",
    "* `getRowSpace()`\n",
    "* `getColSpace()`\n",
    "* `getRow()`\n",
    "* `getCol()`\n",
    "* `setRow()`\n",
    "* `setCol()`"
   ]
  },
  {
   "cell_type": "code",
   "execution_count": null,
   "metadata": {
    "collapsed": true
   },
   "outputs": [],
   "source": [
    "A = Matrix([[1, 2, 3], [4, 5, 6]])\n",
    "print(\"Original Row Space:\", A.getRowSpace())\n",
    "print(\"Original Column Space:\", A.getColSpace())\n",
    "print(\"Original Matrix:\")\n",
    "print(A)\n",
    "print()\n",
    "\n",
    "\n",
    "A.setRow(1, [10, 20, 30])\n",
    "print(\"Modification #1\")\n",
    "print(\"Row Space after modification:\", A.getRowSpace())\n",
    "print(\"Column Space after modification:\", A.getColSpace())\n",
    "print(\"Modified Matrix:\")\n",
    "print(A)\n",
    "print()\n",
    "\n",
    "A.setCol(2, [20, 50])\n",
    "print(\"Modification #2\")\n",
    "print(\"Row Space after modification:\", A.getRowSpace())\n",
    "print(\"Column Space after modification:\", A.getColSpace())\n",
    "print(\"Modified Matrix:\")\n",
    "print(A)\n",
    "print()\n",
    "\n",
    "A.setRow(2, [40, 50, 6])\n",
    "print(\"Modification #3\")\n",
    "print(\"Row Space after modification:\", A.getRowSpace())\n",
    "print(\"Column Space after modification:\", A.getColSpace())\n",
    "print(\"Modified Matrix:\")\n",
    "print(A)\n",
    "print()\n",
    "\n",
    "A.setEntry(2,3, 60)\n",
    "print(\"Modification #4\")\n",
    "print(\"Row Space after modification:\", A.getRowSpace())\n",
    "print(\"Column Space after modification:\", A.getColSpace())\n",
    "print(\"Modified Matrix:\")\n",
    "print(A)\n",
    "print()\n",
    "\n",
    "\n",
    "print(\"The 2nd row is:\", A.getRow(2))\n",
    "print(\"The 3rd column is:\", A.getCol(3))\n",
    "print()\n",
    "\n",
    "\n",
    "print(\"Modification #5\")\n",
    "A.setRow(2, [40, 50])\n",
    "A.setCol(2, [30, 4, 1])\n",
    "print(A)"
   ]
  },
  {
   "cell_type": "markdown",
   "metadata": {
    "collapsed": true
   },
   "source": [
    "#### Tester cell for +, -, *"
   ]
  },
  {
   "cell_type": "code",
   "execution_count": null,
   "metadata": {
    "collapsed": true
   },
   "outputs": [],
   "source": [
    "\"\"\"-----------------------------------TESTER CELL------------------------------------------------\"\"\"\n",
    "\"TESTING OPERATOR + \"\n",
    "\n",
    "A = Matrix([[1, 2],[3, 4],[5, 6]])\n",
    "B = Matrix([[1, 2],[1, 2]])\n",
    "C = Matrix([[10, 20],[30, 40],[50, 60]])\n",
    "\n",
    "P = A + B # dimension mismatch\n",
    "Q = A + C \n",
    "\n",
    "print(\"Matrix A\")           \n",
    "print(A)\n",
    "print()\n",
    "\n",
    "print(\"Matrix C\")           \n",
    "print(C)\n",
    "print()\n",
    "\n",
    "print(\"Matrix Q = A + C\")           \n",
    "print(Q)\n",
    "print()\n",
    "\n",
    "\"TESTING OPERATOR * \"\n",
    "# TESTING SCALAR-MATRIX MULTIPLICATION\n",
    "T = -0.5 * B     \n",
    "print(\"Matrix B\")\n",
    "print(B)\n",
    "print()\n",
    "\n",
    "print(\"Matrix T = -0.5 * B\")\n",
    "print(T)\n",
    "print()\n",
    "\n",
    "\n",
    "# TESTING MATRIX-MATRIX MULTIPLICATION\n",
    "U = A * B\n",
    "print(\"Matrix U = A * B\")\n",
    "print(U)\n",
    "print()\n",
    "\n",
    "\n",
    "# TESTING MATRIX-VECTOR MULTIPLICATION\n",
    "x = Vec([0, 1])  # Vec object\n",
    "b = A * x   # b is a Vec data type\n",
    "print(\"Vector b = A * x\")\n",
    "print(b) \n",
    " "
   ]
  },
  {
   "cell_type": "markdown",
   "metadata": {},
   "source": [
    "#### Task 2.\n",
    "\n",
    "Yours truly likes to listen to a band called \"Alt-J\".  Take a look at the music video for their song, \"Matilda\" at https://www.youtube.com/watch?v=Q06wFUi5OM8.  The faces you see morphing into one another are the faces of the four members who were in the band at the time.  In this exercise you will explore how a simplified version of this \"morphing effect\" can be achieved.\n",
    "\n",
    "***Background:***\n",
    "\n",
    "First, keep in mind that a video is just a collection of several still images displayed with a speed fast enough to make the change from one image to another imperceptible to the human eye.  \n",
    "\n",
    "To make the discussion simpler, suppose the images are grayscale pictures.  We can represent a grayscale picture with $m \\times n$ pixels as a matrix $M \\in \\mathbb{R}_{m\\times n}$.  Each entry $m_{ij}$ of the matrix $M$ is the intensity value of the pixel at location $(i, j)$, [* The intensity values range from 0 (black) to 255 (white) *].  In the written homework problem set for vectors and vector spaces, you proved that $\\mathbb{R}_{m \\times n}$ is a vector space, hence given a set  $\\mathbb{I} \\subset \\mathbb{R}_{m \\times n}$ of two \"image-matrices\", we can form convex combinations of these two elements with the confidence that the resulting matrices will be in $\\mathbb{R}_{m \\times n}$. Let's express this a little more formally.\n",
    "\n",
    "Suppose $\\mathbb{I} = \\{I_i\\in \\mathbb{R}_{m\\times n} \\; | \\; i = 1, 2\\}$ is a set of 2 matrices and $\\alpha_1, \\alpha_2 \\in \\mathbb{R}$ such that $\\alpha_1 + \\alpha_2 = 1$.  Then, \n",
    "\n",
    "$\\hspace{10cm} I = \\alpha_1 \\; I_1 + \\alpha_2 \\; I_2 \\in \\mathbb{R}_{m \\times n}$\n",
    "\n",
    "Think: what would the image corresponding to matrix $I$ look like if $I = 0.5 I_1 + 0.5 I_2$?  Since the images $I_1$ and $I_2$ make an equal contribution to the intensity of each pixel in $I$, we can expect the image to look like an equal mix of the two images. e.g. if the two images contain faces in more-or-less the same position, the resulting image should display a face that more-or-less looks like both faces.  \n",
    "\n",
    "What if $I = 0.85 I_1 + 0.15 I_2$?  Then, since most of the intensity in each pixel of $I$ is being contributed by $I_1$, we can expect the resulting image $I$ to display something that looks more like the first image, $I_1$, vs the second image, $I_2$.\n",
    "\n",
    "***Your tasks***\n",
    "\n",
    "1. Download the `png` and `image` modules.  The `image` module contains the methods\n",
    " * `file2image()` - Reads an image into a list of lists of pixel values (triples with values representing the  three intensities in the RGB color channels). e.g. `[[(1, 2, 3), (1, 2, 3), (1, 2, 3)],[(1, 2, 3), (1, 2, 3), (1, 2, 3)],[(1, 2, 3), (1, 2, 3), (1, 2, 3)]]` would be representing an image with $3\\times3$ pixels.\n",
    " * `image2file()` - Writes an image in list of lists format to a file.\n",
    "2. Create the functions:\n",
    " * `png2graymatrix(filename)` - creates and returns a `Matrix` object with the image data returned by `file2image()` from the module `image`. The parameter `filename` is a string data type specifying the location of the image you wish to use.  If the image is not grayscale, you must convert it to grayscale prior to creating the `Matrix` object.  You can do so using the functions `isgray()` and `color2gray()`, also found in the `image` module.\n",
    " * `graymatrix2png(image_matrix, path)` - creates a png file out of a `Matrix` object.  You may want to use the function `image2file()` from the `image` module.\n",
    "2. Download and extract the zip folder `faces.zip`.  In it, you will find the images of 20 faces.  Use the functions from part 1. to create a program that generates a set of 101 images.  These images must be the result of taking convex combinations of two faces of your choice, so that one face appears to morph into the other.  To create the 100 different convex combinations, start by combining the two images so that the 1st/101 picture looks completely like the first face.  Then, modify the scalars of the combination so that the mixture of the faces is only a percentage of each face.  For example, the 2nd/101 picture would be a mixture of 99% of the first face mixed with 1% of the second face, the 51th/100 picture looks like both faces equally mixed together (50/50), the 76th picture looks like 25% of the first face mixed with 75% of the second picture, and the 101st/101 picture looks like the second face only. \n",
    "\n",
    "4. **Submit to the dropbox a screenshot of the 101 images your code produced.** \n",
    "\n",
    "\n",
    "\n"
   ]
  },
  {
   "cell_type": "code",
   "execution_count": null,
   "metadata": {
    "collapsed": true
   },
   "outputs": [],
   "source": [
    "import image\n",
    "\n",
    "def png2graymatrix(filename):\n",
    "    \"\"\"\n",
    "    takes a png file and returns a Matrix object of the pixels \n",
    "    INPUT: filename - the path and filename of the png file\n",
    "    OUTPUT: a Matrix object with dimensions m x n, assuming the png file has width = n and height = m, \n",
    "    \"\"\"\n",
    "    #FIXME: a single line of code should go here\n",
    "    if #FIXME: the image is not gray:\n",
    "        image_data = #FIXME: make the image grayscale     \n",
    "    return #FIXME\n",
    "\n",
    "\n",
    "def graymatrix2png(img_matrix, path):\n",
    "    \"\"\"\n",
    "    returns a png file created using the Matrix object, img_matrix\n",
    "    INPUT: \n",
    "        * img_matrix - a Matrix object where img_matrix[i][j] is the intensity of the (i,j) pixel\n",
    "        * path - the location and name under which to save the created png file \n",
    "    OUTPUT: \n",
    "        * a png file\n",
    "    \"\"\"\n",
    "    pass"
   ]
  },
  {
   "cell_type": "code",
   "execution_count": null,
   "metadata": {
    "collapsed": true
   },
   "outputs": [],
   "source": [
    "\"\"\"------------------TESTER FOR FUNCTIONS png2graymatrix() AND graymatrix2png()-------------------------\"\"\"\n",
    "M = png2graymatrix(\"img11.png\")  # matrix for img11.png\n",
    "F = png2graymatrix(\"img02.png\")  # matrix for img02.png\n",
    "C = M * 0.5 + F * 0.5   # convex combo: each image contributes half their instensity\n",
    "\n",
    "graymatrix2png(C, \"mixedfaces.png\")  # converting the matrix to png named mixedfaces"
   ]
  }
 ],
 "metadata": {
  "anaconda-cloud": {},
  "kernelspec": {
   "display_name": "Python 3",
   "language": "python",
   "name": "python3"
  },
  "language_info": {
   "codemirror_mode": {
    "name": "ipython",
    "version": 3
   },
   "file_extension": ".py",
   "mimetype": "text/x-python",
   "name": "python",
   "nbconvert_exporter": "python",
   "pygments_lexer": "ipython3",
   "version": "3.6.2"
  }
 },
 "nbformat": 4,
 "nbformat_minor": 1
}
